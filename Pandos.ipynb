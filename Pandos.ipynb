{
  "nbformat": 4,
  "nbformat_minor": 0,
  "metadata": {
    "colab": {
      "provenance": [],
      "authorship_tag": "ABX9TyOGuP6r3XM6gqI5R+V27OVX",
      "include_colab_link": true
    },
    "kernelspec": {
      "name": "python3",
      "display_name": "Python 3"
    },
    "language_info": {
      "name": "python"
    }
  },
  "cells": [
    {
      "cell_type": "markdown",
      "metadata": {
        "id": "view-in-github",
        "colab_type": "text"
      },
      "source": [
        "<a href=\"https://colab.research.google.com/github/IhorHofman/1/blob/main/Pandos.ipynb\" target=\"_parent\"><img src=\"https://colab.research.google.com/assets/colab-badge.svg\" alt=\"Open In Colab\"/></a>"
      ]
    },
    {
      "cell_type": "code",
      "execution_count": null,
      "metadata": {
        "id": "Pxa3XFjfr0yb"
      },
      "outputs": [],
      "source": [
        "def isPrime(num):\n",
        "  prime=True\n",
        "  for i in range(2,num):\n",
        "    if (num % i)==0:\n",
        "      prime= False\n",
        "    if prime==True:\n",
        "      return True\n",
        "    else:\n",
        "      return False\n",
        "\n",
        "for i in range(1,501):\n",
        "  if isPrime(i)==True:\n",
        "    print(i)\n",
        ""
      ]
    },
    {
      "cell_type": "code",
      "source": [],
      "metadata": {
        "id": "R8aQuxtosBQG"
      },
      "execution_count": null,
      "outputs": []
    }
  ]
}